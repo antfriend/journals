{
 "cells": [
  {
   "cell_type": "markdown",
   "metadata": {},
   "source": [
    "<a id=\"the_top\"></a>\n",
    "\n",
    "### [Journals Home](#the_top) | [About the AI Code](#about_ai_code)\n",
    "---------\n",
    "# Crepuscular Rays\n",
    "\n",
    "## automated build edition\n"
   ]
  },
  {
   "cell_type": "code",
   "execution_count": 2,
   "metadata": {},
   "outputs": [
    {
     "name": "stdout",
     "output_type": "stream",
     "text": [
      "## Processing Started!\n",
      "## Image URL: https://antfriend.github.io/journals/vectors/vectors_84.png\n",
      " \n",
      "Failed to generate completion for vectors_84: 'OpenAI' object has no attribute 'Completion'\n",
      "## Processing Completed!\n"
     ]
    }
   ],
   "source": [
    "from openai import OpenAI\n",
    "import json\n",
    "\n",
    "# Set up the OpenAI client with the API key\n",
    "# API key is pulled from environement variable implicitly\n",
    "#  client = OpenAI(api_key=\"your_openai_api_key\")\n",
    "client = OpenAI()\n",
    "\n",
    "# Dictionary of journals with pages\n",
    "journals = {\n",
    "    'vectors': ['84']\n",
    "}\n",
    "\n",
    "# Define the prompt for the GPT model\n",
    "prompt = 'explain this'\n",
    "\n",
    "# GitHub root URL for journals\n",
    "github_root = \"https://antfriend.github.io/journals/\"\n",
    "\n",
    "print('## Processing Started!')\n",
    "\n",
    "# Iterate through each journal and its pages\n",
    "for journal, pages in journals.items():\n",
    "    for page in pages:\n",
    "        journal_image_name = f\"{journal}_{page}\"\n",
    "        image_url = f\"{github_root}{journal}/{journal_image_name}.png\"\n",
    "        \n",
    "        # Print the image URL\n",
    "        print(f'## Image URL: {image_url}')\n",
    "        print(' ')\n",
    "        \n",
    "        # Prepare the payload for the API request\n",
    "        messages = [\n",
    "            {\n",
    "                \"role\": \"user\",\n",
    "                \"content\": prompt\n",
    "            },\n",
    "            {\n",
    "                \"role\": \"system\",\n",
    "                \"content\": image_url\n",
    "            }\n",
    "        ]\n",
    "        \n",
    "        try:\n",
    "            # Generating the response from the GPT model\n",
    "            response = client.Completion.create(\n",
    "                model=\"gpt-4\",\n",
    "                messages=messages,\n",
    "                max_tokens=1000\n",
    "            )\n",
    "            \n",
    "            # Process the response\n",
    "            if response.get('choices'):\n",
    "                message_content = response['choices'][0]['message']['content']\n",
    "                lines = message_content.split('\\n')\n",
    "                title = lines[0] if lines else 'No title found'\n",
    "                \n",
    "                # Constructing markdown link with title\n",
    "                title_link_md = f\"### {journal} pg.{page} [{title}]({journal_image_name}.html)\"\n",
    "                print(title_link_md)\n",
    "                print(' ')\n",
    "                print(message_content)\n",
    "                print(' ')\n",
    "                \n",
    "                # Write the content to a text file\n",
    "                with open(f\"{journal_image_name}.txt\", 'w') as file:\n",
    "                    file.write(message_content)\n",
    "        except Exception as e:\n",
    "            print(f\"Failed to generate completion for {journal_image_name}: {str(e)}\")\n",
    "\n",
    "print('## Processing Completed!')\n"
   ]
  }
 ],
 "metadata": {
  "kernelspec": {
   "display_name": "Python 3",
   "language": "python",
   "name": "python3"
  },
  "language_info": {
   "codemirror_mode": {
    "name": "ipython",
    "version": 3
   },
   "file_extension": ".py",
   "mimetype": "text/x-python",
   "name": "python",
   "nbconvert_exporter": "python",
   "pygments_lexer": "ipython3",
   "version": "3.10.11"
  }
 },
 "nbformat": 4,
 "nbformat_minor": 2
}
