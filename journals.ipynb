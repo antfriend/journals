{
 "cells": [
  {
   "cell_type": "markdown",
   "metadata": {},
   "source": [
    "## Waves and Vectors \n",
    "These are the names of the two journals in this collection. What they collect is ideas. Mostly about waves and vectors as well as semantics and conscious experience and quantum entanglement. It is all pretty esoteric and just for fun. Some of them make me laugh.\n",
    "\n",
    "You might say this a self-published e-book.\n",
    "\n",
    "This automation project is intended to result in a kind of web publication of easily share-able svg pages.    \n",
    "\n",
    "- To that end, I'm automating the generation of a title, a summary, and a full description of each image with ChatGPT.\n",
    "\n",
    "- Then an SVG is generated, integrating the original image and the text into a share-able, \"published\", document.\n",
    "\n",
    "- Then the collection of documents is organized by subtle sentiment and a table of contents and index with thumbnails are created.\n",
    "\n",
    "Then I commit the update to this repo."
   ]
  },
  {
   "cell_type": "code",
   "execution_count": null,
   "metadata": {},
   "outputs": [],
   "source": [
    "%pip install openai requests"
   ]
  },
  {
   "cell_type": "code",
   "execution_count": 8,
   "metadata": {},
   "outputs": [
    {
     "name": "stdout",
     "output_type": "stream",
     "text": [
      "The link you provided is for a README file in a GitHub repository owned by the user antfriend. The content of the README file explains the purpose and details of the project, but unfortunately, as an AI language model, I cannot access or browse external websites, including GitHub. You can click on the link and read the README file to learn more about it.\n"
     ]
    }
   ],
   "source": [
    "from openai import OpenAI\n",
    "\n",
    "client = OpenAI()# defaults to os.environ.get(\"OPENAI_API_KEY\")\n",
    "\n",
    "chat_completion = client.chat.completions.create(\n",
    "    messages=[\n",
    "        {\n",
    "            \"role\": \"user\",\n",
    "            \"content\": \"What is this about? https://github.com/antfriend/journals/blob/main/README.md\",\n",
    "        }\n",
    "    ],\n",
    "    model=\"gpt-3.5-turbo\",\n",
    ")\n",
    "print(chat_completion.choices[0].message.content)"
   ]
  },
  {
   "cell_type": "markdown",
   "metadata": {},
   "source": []
  },
  {
   "cell_type": "markdown",
   "metadata": {},
   "source": []
  },
  {
   "cell_type": "code",
   "execution_count": 36,
   "metadata": {},
   "outputs": [
    {
     "name": "stdout",
     "output_type": "stream",
     "text": [
      ">>> Analyze the content and meaning of this journal page. Generate an appropriate and catchy title. As a scientist with a sense of humor, write a summary of the meaning in two sentences or less. Finally, as a scientist, write a detailed explanation, using well-formed sentences and correct grammar.\n",
      "for: waves_8\n",
      "https://github.com/antfriend/journals/blob/main/waves/waves_8.png?raw=true\n",
      "Title: \"The Folded Realm of Thought: Brains, Origami, and the Art of Learning\"\n",
      "\n",
      "Summary: Our brains employ the same space-maximizing strategy as origami to fit more surface into a limited cranium, allowing us to continuously update our mental maps through learning and rewiring.\n",
      "\n",
      "Detailed Explanation:\n",
      "This journal page draws an intriguing comparison between the folding patterns observed in origami, specifically the Miura fold, and the complex, folded structure of the human cerebral cortex. The Miura fold is depicted alongside both a simplified grid version and the human brain, illustrating how both utilize folding to maximize surface area within confined spaces. \n",
      "\n",
      "The author notes that smaller mammals generally possess smooth brains lacking the intricate folds seen in larger mammals, which correlates to a smaller cerebral cortex. This detail highlights the evolutionary advantage of cortical folds, as more extensive surface area corresponds to increased cognitive processing capability within a finite volume.\n",
      "\n",
      "The cerebral cortex is likened to a personal map of accumulated knowledge, constrained by the brain's physical nature but remarkably plastic within those bounds. Learning, the journal page mentions, involves modifying this 'map' by updating, repairing, replacing, and adding to what is already known—a dynamic process that allows human beings to adapt and acquire new skills and information over time.\n",
      "\n",
      "Neuro-Linguistic Programming (NLP) and Cognitive Behavioral Therapy (CBT) are referred to as methods for reprogramming the mind, suggesting that deliberate strategies can be employed to effectuate changes in thought patterns and behaviors. This highlights an appreciation for the brain's flexibility and adaptability rooted in both neuroscience and psychological practice. The journal page, therefore, suggests a view of the brain as an organ with remarkable capacity for change and growth, much like how a piece of paper can be transformed through the art of origami.\n",
      ">>> Analyze the content and meaning of this journal page. Generate an appropriate and catchy title. As a scientist with a sense of humor, write a summary of the meaning in two sentences or less. Finally, as a scientist, write a detailed explanation, using well-formed sentences and correct grammar.\n",
      "for: vectors_2\n",
      "https://github.com/antfriend/journals/blob/main/vectors/vectors_2.png?raw=true\n",
      "Title: \"Surfing the Quantum Waves of Consciousness\"\n",
      "\n",
      "Summary: The journal page draws an analogy between the fluidity of conscious experience and quantum wave phenomena, suggesting our inner narrative unfolds not in static chunks but as an interconnected, dynamic process.\n",
      "\n",
      "Detailed Explanation:\n",
      "The journal page presents a philosophical view on the nature of conscious experience through the lens of quantum mechanics. The key claim is the idea that consciousness is more akin to a wave than a particle—which in physics terms suggests it is not localized or discrete but is spread out and continuous. The text proposes that consciousness is a process, not simply a static object or a single moment in time, which aligns with the wave-particle duality concept in quantum physics, where particles like electrons exhibit both wave-like and particle-like properties.\n",
      "\n",
      "It further posits that the phenomenon of consciousness could hypothetically be described using concepts from quantum mechanics, such as the wave function, which is a mathematical tool used to describe the quantum state of a particle and encompasses all possible states that the particle could be in. The mention of \"entanglement\" alludes to a quintessential quantum effect where particles become linked so that the state of one (no matter how far apart) immediately affects the state of another. It suggests an intricate connectedness within our conscious experience, echoing the way entangled particles remain connected across space and time.\n",
      "\n",
      "The reference to the Fourier transform, a mathematical transform used to analyze the frequencies of waves, when associated with the \"frequency of attentional blink,\" indicates an analogy between analyzing wave frequencies and analyzing the intervals at which consciousness might \"blink\"—or shift attention. The \"attentional blink\" is a phenomenon observed in cognitive psychology where for a brief moment after perceiving one piece of information, another is unlikely to be perceived.\n",
      "\n",
      "In summary, the author is creatively applying quantum mechanics terminology to the conceptual understanding of consciousness, portraying it as dynamic, interdependent, and complex, contrasting with any oversimplified or overly deterministic view. It's a theoretical and metaphorical interpretation rather than a literal scientific one but aims to stimulate thought about the nature of thought itself.\n"
     ]
    }
   ],
   "source": [
    "from openai import OpenAI\n",
    "\n",
    "client = OpenAI()\n",
    "journals = {\n",
    "    'waves': ['8'],\n",
    "    'vectors': ['2','6']\n",
    "}\n",
    "\n",
    "prompt_template = 'Analyze the content and meaning of this journal page. Generate an appropriate and catchy title. As a scientist with a sense of humor, write a summary of the meaning in two sentences or less. Finally, as a scientist, write a detailed explanation, using well-formed sentences and correct grammar.'\n",
    "\n",
    "# Iterating through each journal and its pages\n",
    "for journal, pages in journals.items():\n",
    "    for page_number in pages:\n",
    "        journal_image_name = journal + \"_\" + page_number\n",
    "        image_url = \"https://github.com/antfriend/journals/blob/main/\" + journal + \"/\" + journal_image_name + \".png?raw=true\"\n",
    "        print('>>> ' + prompt_template)\n",
    "        print('for: ' + journal_image_name)\n",
    "        print(image_url)\n",
    "\n",
    "        # Generating the response\n",
    "        response = client.chat.completions.create(\n",
    "            model=\"gpt-4-vision-preview\",\n",
    "            messages=[\n",
    "                {\n",
    "                    \"role\": \"user\",\n",
    "                    \"content\": [\n",
    "                        {\"type\": \"text\", \"text\": prompt_template},\n",
    "                        {\"type\": \"image_url\", \"image_url\": {\"url\": image_url}}\n",
    "                    ]\n",
    "                }\n",
    "            ],\n",
    "            max_tokens=500\n",
    "        )\n",
    "\n",
    "        message_content = 'image_url: ' + image_url + \"\\n\\n\" + response.choices[0].message.content\n",
    "\n",
    "        filename = journal_image_name + \".md\"\n",
    "\n",
    "        # Writing to the file\n",
    "        with open(filename, 'w') as file:\n",
    "            file.write(message_content)\n",
    "\n",
    "        # print(message_content)\n"
   ]
  }
 ],
 "metadata": {
  "kernelspec": {
   "display_name": "Python 3",
   "language": "python",
   "name": "python3"
  },
  "language_info": {
   "codemirror_mode": {
    "name": "ipython",
    "version": 3
   },
   "file_extension": ".py",
   "mimetype": "text/x-python",
   "name": "python",
   "nbconvert_exporter": "python",
   "pygments_lexer": "ipython3",
   "version": "3.10.11"
  }
 },
 "nbformat": 4,
 "nbformat_minor": 2
}
