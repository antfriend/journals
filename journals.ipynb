{
 "cells": [
  {
   "cell_type": "markdown",
   "metadata": {},
   "source": [
    "## Automating the Future: Robotic Process Automation Revolutionizes Journal Page \"Self-Publishing\"\n"
   ]
  },
  {
   "cell_type": "markdown",
   "metadata": {},
   "source": [
    "### \"Waves\" and \"Vectors\" \n",
    "are the names of my two journals in this collection. What they collect is ideas. Mostly about waves and vectors as well as semantics and conscious experience and quantum entanglement. It is all pretty esoteric and just for fun. Some of them make me laugh.\n",
    "\n",
    "You might say this a self-published e-book.\n",
    "This automation project is intended to result in a kind of web publication of easily share-able content.    \n",
    "- To that end, I'm automating the generation of a title, a summary, and a full description of each image with ChatGPT.\n",
    "- Then a viewable page is generated, integrating the original image and the text into a share-able, \"published\", document.\n",
    "\n",
    "- Next I plan to automate the collection of documents, organized by subtle sentiment in a table of contents with a concept index and thumbnails.\n"
   ]
  },
  {
   "cell_type": "code",
   "execution_count": null,
   "metadata": {},
   "outputs": [],
   "source": [
    "# install openai and requests if needed\n",
    "%pip install openai requests"
   ]
  },
  {
   "cell_type": "markdown",
   "metadata": {},
   "source": [
    "In this section, we will be documenting the workflow for generating titles, summaries, and detailed explanations for journal pages using the ChatGPT model. The code provided below demonstrates how we iterate through each journal and its pages, generate prompts, and obtain responses from the ChatGPT model. The resulting content is then saved in separate Markdown files for each journal page. This workflow allows us to automate the generation of descriptive content for our journal collection.\n"
   ]
  },
  {
   "cell_type": "code",
   "execution_count": 39,
   "metadata": {},
   "outputs": [
    {
     "name": "stdout",
     "output_type": "stream",
     "text": [
      ">>> Analyze the content and meaning of this journal page. Generate an appropriate and catchy title. As a scientist with a sense of humor, write a summary of the meaning in two sentences or less. Finally, as a scientist, write a detailed explanation, using well-formed sentences and correct grammar.\n",
      "for: waves_8\n",
      "https://github.com/antfriend/journals/blob/main/waves/waves_8.png?raw=true\n",
      ">>> Analyze the content and meaning of this journal page. Generate an appropriate and catchy title. As a scientist with a sense of humor, write a summary of the meaning in two sentences or less. Finally, as a scientist, write a detailed explanation, using well-formed sentences and correct grammar.\n",
      "for: waves_88\n",
      "https://github.com/antfriend/journals/blob/main/waves/waves_88.png?raw=true\n",
      ">>> Analyze the content and meaning of this journal page. Generate an appropriate and catchy title. As a scientist with a sense of humor, write a summary of the meaning in two sentences or less. Finally, as a scientist, write a detailed explanation, using well-formed sentences and correct grammar.\n",
      "for: vectors_2\n",
      "https://github.com/antfriend/journals/blob/main/vectors/vectors_2.png?raw=true\n",
      ">>> Analyze the content and meaning of this journal page. Generate an appropriate and catchy title. As a scientist with a sense of humor, write a summary of the meaning in two sentences or less. Finally, as a scientist, write a detailed explanation, using well-formed sentences and correct grammar.\n",
      "for: vectors_6\n",
      "https://github.com/antfriend/journals/blob/main/vectors/vectors_6.png?raw=true\n"
     ]
    }
   ],
   "source": [
    "from openai import OpenAI\n",
    "\n",
    "client = OpenAI()\n",
    "journals = {\n",
    "    'waves': ['8','88','107'],\n",
    "    'vectors': ['2','6']\n",
    "}\n",
    "\n",
    "prompt_template = 'Analyze the content and meaning of this journal page. Generate an appropriate and catchy title. As a scientist with a sense of humor, write a summary of the meaning in two sentences or less. Finally, as a scientist, write a detailed explanation, using well-formed sentences and correct grammar.'\n",
    "\n",
    "# Iterating through each journal and its pages\n",
    "for journal, pages in journals.items():\n",
    "    for page_number in pages:\n",
    "        journal_image_name = journal + \"_\" + page_number\n",
    "        image_url = \"https://github.com/antfriend/journals/blob/main/\" + journal + \"/\" + journal_image_name + \".png?raw=true\"\n",
    "        print('>>> ' + prompt_template)\n",
    "        print('for: ' + journal_image_name)\n",
    "        print(image_url)\n",
    "\n",
    "        # Generating the response\n",
    "        response = client.chat.completions.create(\n",
    "            model=\"gpt-4-vision-preview\",\n",
    "            messages=[\n",
    "                {\n",
    "                    \"role\": \"user\",\n",
    "                    \"content\": [\n",
    "                        {\"type\": \"text\", \"text\": prompt_template},\n",
    "                        {\"type\": \"image_url\", \"image_url\": {\"url\": image_url}}\n",
    "                    ]\n",
    "                }\n",
    "            ],\n",
    "            max_tokens=500\n",
    "        )\n",
    "\n",
    "        message_content = 'image_url: ' + image_url + \"\\n\\n\" + response.choices[0].message.content\n",
    "\n",
    "        filename = journal_image_name + \".md\"\n",
    "\n",
    "        # Writing to the file\n",
    "        with open(filename, 'w') as file:\n",
    "            file.write(message_content)\n",
    "\n",
    "        # print(message_content)\n"
   ]
  },
  {
   "cell_type": "code",
   "execution_count": null,
   "metadata": {},
   "outputs": [],
   "source": [
    "from openai import OpenAI\n",
    "\n",
    "client = OpenAI()# defaults to os.environ.get(\"OPENAI_API_KEY\")\n",
    "\n",
    "chat_completion = client.chat.completions.create(\n",
    "    messages=[\n",
    "        {\n",
    "            \"role\": \"user\",\n",
    "            \"content\": \"What is this about? https://github.com/antfriend/journals/blob/main/README.md\",\n",
    "        }\n",
    "    ],\n",
    "    model=\"gpt-3.5-turbo\",\n",
    ")\n",
    "print(chat_completion.choices[0].message.content)"
   ]
  }
 ],
 "metadata": {
  "kernelspec": {
   "display_name": "Python 3",
   "language": "python",
   "name": "python3"
  },
  "language_info": {
   "codemirror_mode": {
    "name": "ipython",
    "version": 3
   },
   "file_extension": ".py",
   "mimetype": "text/x-python",
   "name": "python",
   "nbconvert_exporter": "python",
   "pygments_lexer": "ipython3",
   "version": "3.10.11"
  }
 },
 "nbformat": 4,
 "nbformat_minor": 2
}
