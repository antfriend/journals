{
 "cells": [
  {
   "cell_type": "markdown",
   "metadata": {},
   "source": [
    "## Waves and Vectors \n",
    "These are the names of the two journals in this collection. What they collect is ideas. Mostly about waves and vectors as well as semantics and conscious experience and quantum entanglement. It is all pretty esoteric and just for fun. Some of them make me laugh.\n",
    "\n",
    "You might say this a self-published e-book.\n",
    "\n",
    "This automation project is intended to result in a kind of web publication of easily share-able svg pages.    \n",
    "\n",
    "- To that end, I'm automating the generation of a title, a summary, and a full description of each image with ChatGPT.\n",
    "\n",
    "- Then an SVG is generated, integrating the original image and the text into a share-able, \"published\", document.\n",
    "\n",
    "- Then the collection of documents is organized by subtle sentiment and a table of contents and index with thumbnails are created.\n",
    "\n",
    "Then I commit the update to this repo."
   ]
  },
  {
   "cell_type": "code",
   "execution_count": null,
   "metadata": {},
   "outputs": [],
   "source": [
    "%pip install openai requests"
   ]
  },
  {
   "cell_type": "code",
   "execution_count": 8,
   "metadata": {},
   "outputs": [
    {
     "name": "stdout",
     "output_type": "stream",
     "text": [
      "The link you provided is for a README file in a GitHub repository owned by the user antfriend. The content of the README file explains the purpose and details of the project, but unfortunately, as an AI language model, I cannot access or browse external websites, including GitHub. You can click on the link and read the README file to learn more about it.\n"
     ]
    }
   ],
   "source": [
    "from openai import OpenAI\n",
    "\n",
    "client = OpenAI()# defaults to os.environ.get(\"OPENAI_API_KEY\")\n",
    "\n",
    "chat_completion = client.chat.completions.create(\n",
    "    messages=[\n",
    "        {\n",
    "            \"role\": \"user\",\n",
    "            \"content\": \"What is this about? https://github.com/antfriend/journals/blob/main/README.md\",\n",
    "        }\n",
    "    ],\n",
    "    model=\"gpt-3.5-turbo\",\n",
    ")\n",
    "print(chat_completion.choices[0].message.content)"
   ]
  },
  {
   "cell_type": "markdown",
   "metadata": {},
   "source": []
  },
  {
   "cell_type": "markdown",
   "metadata": {},
   "source": []
  },
  {
   "cell_type": "code",
   "execution_count": 22,
   "metadata": {},
   "outputs": [
    {
     "name": "stdout",
     "output_type": "stream",
     "text": [
      ">>> Analyze this journal page. Generate an appropriate and catchy title. Generate a summary of the meaning in two sentences or less. As a scientist, generate a detailed explanation in 300 words or less.\n",
      "for: waves_8\n",
      " \n",
      "Title: \"Unfolding the Human Mind: The Origami of the Cerebral Cortex\"\n",
      "\n",
      "Summary: The cerebral cortex is intricately folded much like origami, which optimizes brain function by increasing surface area. Understanding and utilizing this structure can lead to improved learning and mental flexibility through techniques like NLP and CBT.\n",
      "\n",
      "Detailed Explanation:\n",
      "The journal page presents an interesting analogy between origami, specifically the Miura fold, and the human cerebral cortex. The cerebral cortex is the outermost layer of the brain and is responsible for complex cognitive processes including reasoning, perception, emotion, and memory. The intricate folds of the cortex, known as gyri (ridges) and sulci (grooves), greatly increase the surface area of the brain within the limited volume of the skull. This larger surface area allows for a higher density of neurons and synaptic connections, enhancing the brain's processing power.\n",
      "\n",
      "In smaller mammals, the brains are relatively smooth, which correlates with less complex behavior and cognitive capabilities. As mammals evolve, and with the growth of human intelligence, the complexity and folding of the cerebral cortex increase. The folds are not just a byproduct of brain evolution; they are a fundamental feature that has enabled the extensive capabilities of the human mind. These cortical folds are believed to be fully developed by the age of 25 in humans, coinciding with the maturation of executive functions.\n",
      "\n",
      "Learning and cognitive flexibility are described in the journal as processes of updating, repairing, replacing, and adding to existing\n"
     ]
    }
   ],
   "source": [
    "from openai import OpenAI\n",
    "\n",
    "client = OpenAI()\n",
    "journals = {\n",
    "    'waves': ['8', '2', '3'],\n",
    "    'vectors': ['1', '2', '3']\n",
    "}\n",
    "journal = list(journals.keys())[0]\n",
    "page_number = journals[journal][0]\n",
    "journal_image_name = journal + \"_\" + page_number\n",
    "prompt = 'Analyze this journal page. Generate an appropriate and catchy title. Generate a summary of the meaning in two sentences or less. As a scientist, generate a detailed explanation in 300 words or less.'\n",
    "print('>>> ' + prompt)\n",
    "print('for: ' + journal_image_name)   \n",
    "print(' ')\n",
    "response = client.chat.completions.create(\n",
    "  model=\"gpt-4-vision-preview\",\n",
    "  messages=[\n",
    "    {\n",
    "      \"role\": \"user\",\n",
    "      \"content\": [\n",
    "        {\"type\": \"text\", \"text\": prompt},\n",
    "        {\n",
    "          \"type\": \"image_url\",\n",
    "          \"image_url\": {\n",
    "            \"url\": \"https://github.com/antfriend/journals/blob/main/\" + journal + \"/\" + journal_image_name + \".png?raw=true\",\n",
    "          },\n",
    "        },\n",
    "      ],\n",
    "    }\n",
    "  ],\n",
    "  max_tokens=300,\n",
    ")\n",
    "message_content = response.choices[0].message.content\n",
    "\n",
    "print(message_content)"
   ]
  }
 ],
 "metadata": {
  "kernelspec": {
   "display_name": "Python 3",
   "language": "python",
   "name": "python3"
  },
  "language_info": {
   "codemirror_mode": {
    "name": "ipython",
    "version": 3
   },
   "file_extension": ".py",
   "mimetype": "text/x-python",
   "name": "python",
   "nbconvert_exporter": "python",
   "pygments_lexer": "ipython3",
   "version": "3.10.11"
  }
 },
 "nbformat": 4,
 "nbformat_minor": 2
}
