{
 "cells": [
  {
   "cell_type": "markdown",
   "metadata": {},
   "source": [
    "## Waves and Vectors \n",
    "These are the names of the two journals in this collection. What they collect is ideas. Mostly about waves and vectors as well as semantics and conscious experience and quantum entanglement. It is all pretty esoteric and just for fun. Some of them make me laugh.\n",
    "\n",
    "You might say this a self-published e-book.\n",
    "\n",
    "This automation project is intended to result in a kind of web publication of easily share-able svg pages.    \n",
    "\n",
    "- To that end, I'm automating the generation of a title, a summary, and a full description of each image with ChatGPT.\n",
    "\n",
    "- Then an SVG is generated, integrating the original image and the text into a share-able, \"published\", document.\n",
    "\n",
    "- Then the collection of documents is organized by subtle sentiment and a table of contents and index with thumbnails are created.\n",
    "\n",
    "Then I commit the update to this repo."
   ]
  },
  {
   "cell_type": "code",
   "execution_count": null,
   "metadata": {},
   "outputs": [],
   "source": [
    "%pip install openai requests"
   ]
  },
  {
   "cell_type": "code",
   "execution_count": 8,
   "metadata": {},
   "outputs": [
    {
     "name": "stdout",
     "output_type": "stream",
     "text": [
      "The link you provided is for a README file in a GitHub repository owned by the user antfriend. The content of the README file explains the purpose and details of the project, but unfortunately, as an AI language model, I cannot access or browse external websites, including GitHub. You can click on the link and read the README file to learn more about it.\n"
     ]
    }
   ],
   "source": [
    "from openai import OpenAI\n",
    "\n",
    "client = OpenAI()# defaults to os.environ.get(\"OPENAI_API_KEY\")\n",
    "\n",
    "chat_completion = client.chat.completions.create(\n",
    "    messages=[\n",
    "        {\n",
    "            \"role\": \"user\",\n",
    "            \"content\": \"What is this about? https://github.com/antfriend/journals/blob/main/README.md\",\n",
    "        }\n",
    "    ],\n",
    "    model=\"gpt-3.5-turbo\",\n",
    ")\n",
    "print(chat_completion.choices[0].message.content)"
   ]
  },
  {
   "cell_type": "markdown",
   "metadata": {},
   "source": []
  },
  {
   "cell_type": "markdown",
   "metadata": {},
   "source": []
  },
  {
   "cell_type": "code",
   "execution_count": 11,
   "metadata": {},
   "outputs": [
    {
     "ename": "TypeError",
     "evalue": "'dict_keys' object is not subscriptable",
     "output_type": "error",
     "traceback": [
      "\u001b[1;31m---------------------------------------------------------------------------\u001b[0m",
      "\u001b[1;31mTypeError\u001b[0m                                 Traceback (most recent call last)",
      "\u001b[1;32mc:\\git\\journals\\journals.ipynb Cell 6\u001b[0m line \u001b[0;36m9\n\u001b[0;32m      <a href='vscode-notebook-cell:/c%3A/git/journals/journals.ipynb#W5sZmlsZQ%3D%3D?line=2'>3</a>\u001b[0m client \u001b[39m=\u001b[39m OpenAI()\n\u001b[0;32m      <a href='vscode-notebook-cell:/c%3A/git/journals/journals.ipynb#W5sZmlsZQ%3D%3D?line=3'>4</a>\u001b[0m journals \u001b[39m=\u001b[39m {\n\u001b[0;32m      <a href='vscode-notebook-cell:/c%3A/git/journals/journals.ipynb#W5sZmlsZQ%3D%3D?line=4'>5</a>\u001b[0m     \u001b[39m'\u001b[39m\u001b[39mwaves\u001b[39m\u001b[39m'\u001b[39m: [\u001b[39m'\u001b[39m\u001b[39m1\u001b[39m\u001b[39m'\u001b[39m, \u001b[39m'\u001b[39m\u001b[39m2\u001b[39m\u001b[39m'\u001b[39m, \u001b[39m'\u001b[39m\u001b[39m3\u001b[39m\u001b[39m'\u001b[39m],\n\u001b[0;32m      <a href='vscode-notebook-cell:/c%3A/git/journals/journals.ipynb#W5sZmlsZQ%3D%3D?line=5'>6</a>\u001b[0m     \u001b[39m'\u001b[39m\u001b[39mvectors\u001b[39m\u001b[39m'\u001b[39m: [\u001b[39m'\u001b[39m\u001b[39m1\u001b[39m\u001b[39m'\u001b[39m, \u001b[39m'\u001b[39m\u001b[39m2\u001b[39m\u001b[39m'\u001b[39m, \u001b[39m'\u001b[39m\u001b[39m3\u001b[39m\u001b[39m'\u001b[39m]\n\u001b[0;32m      <a href='vscode-notebook-cell:/c%3A/git/journals/journals.ipynb#W5sZmlsZQ%3D%3D?line=6'>7</a>\u001b[0m }\u001b[39m#{\"waves\": \"waves\", \"vectors\": \"vectors\"}\u001b[39;00m\n\u001b[1;32m----> <a href='vscode-notebook-cell:/c%3A/git/journals/journals.ipynb#W5sZmlsZQ%3D%3D?line=8'>9</a>\u001b[0m journal_image \u001b[39m=\u001b[39m journals\u001b[39m.\u001b[39;49mkeys()[\u001b[39m0\u001b[39;49m] \u001b[39m+\u001b[39m \u001b[39m'\u001b[39m\u001b[39m_\u001b[39m\u001b[39m'\u001b[39m \u001b[39m+\u001b[39m journals[journals\u001b[39m.\u001b[39mkeys()[\u001b[39m0\u001b[39m]][\u001b[39m0\u001b[39m] \u001b[39m+\u001b[39m \u001b[39m'\u001b[39m\u001b[39m.png\u001b[39m\u001b[39m'\u001b[39m\n\u001b[0;32m     <a href='vscode-notebook-cell:/c%3A/git/journals/journals.ipynb#W5sZmlsZQ%3D%3D?line=9'>10</a>\u001b[0m \u001b[39mprint\u001b[39m()\n\u001b[0;32m     <a href='vscode-notebook-cell:/c%3A/git/journals/journals.ipynb#W5sZmlsZQ%3D%3D?line=10'>11</a>\u001b[0m \u001b[39mprint\u001b[39m(journal_image)    \n",
      "\u001b[1;31mTypeError\u001b[0m: 'dict_keys' object is not subscriptable"
     ]
    }
   ],
   "source": [
    "from openai import OpenAI\n",
    "\n",
    "client = OpenAI()\n",
    "journals = {\n",
    "    'waves': ['1', '2', '3'],\n",
    "    'vectors': ['1', '2', '3']\n",
    "}\n",
    "first_key = list(journals.keys())[0]\n",
    "first_value = journals[first_key][0]\n",
    "\n",
    "# Concatenating the first key and its first value\n",
    "concatenated_string = first_key + \"_\" + first_value\n",
    "\n",
    "print(concatenated_string)   \n",
    "print\n",
    "response = client.chat.completions.create(\n",
    "  model=\"gpt-4-vision-preview\",\n",
    "  messages=[\n",
    "    {\n",
    "      \"role\": \"user\",\n",
    "      \"content\": [\n",
    "        {\"type\": \"text\", \"text\": \"What’s in this image?\"},\n",
    "        {\n",
    "          \"type\": \"image_url\",\n",
    "          \"image_url\": {\n",
    "            \"url\": \"https://upload.wikimedia.org/wikipedia/commons/thumb/d/dd/Gfp-wisconsin-madison-the-nature-boardwalk.jpg/2560px-Gfp-wisconsin-madison-the-nature-boardwalk.jpg\",\n",
    "          },\n",
    "        },\n",
    "      ],\n",
    "    }\n",
    "  ],\n",
    "  max_tokens=300,\n",
    ")\n",
    "\n",
    "print(response.choices[0].message.content)"
   ]
  }
 ],
 "metadata": {
  "kernelspec": {
   "display_name": "Python 3",
   "language": "python",
   "name": "python3"
  },
  "language_info": {
   "codemirror_mode": {
    "name": "ipython",
    "version": 3
   },
   "file_extension": ".py",
   "mimetype": "text/x-python",
   "name": "python",
   "nbconvert_exporter": "python",
   "pygments_lexer": "ipython3",
   "version": "3.10.11"
  }
 },
 "nbformat": 4,
 "nbformat_minor": 2
}
