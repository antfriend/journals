{
 "cells": [
  {
   "cell_type": "markdown",
   "metadata": {},
   "source": [
    "## Waves and Vectors \n",
    "These are the names of the two journals in this collection. What they collect is ideas. Mostly about waves and vectors as well as semantics and conscious experience and quantum entanglement. It is all pretty esoteric and just for fun. Some of them make me laugh.\n",
    "\n",
    "You might say this a self-published e-book.\n",
    "\n",
    "This automation project is intended to result in a kind of web publication of easily share-able svg pages.    \n",
    "\n",
    "- To that end, I'm automating the generation of a title, a summary, and a full description of each image with ChatGPT.\n",
    "\n",
    "- Then an SVG is generated, integrating the original image and the text into a share-able, \"published\", document.\n",
    "\n",
    "- Then the collection of documents is organized by subtle sentiment and a table of contents and index with thumbnails are created.\n",
    "\n",
    "Then I commit the update to this repo."
   ]
  },
  {
   "cell_type": "code",
   "execution_count": null,
   "metadata": {},
   "outputs": [],
   "source": [
    "%pip install openai requests"
   ]
  },
  {
   "cell_type": "code",
   "execution_count": 8,
   "metadata": {},
   "outputs": [
    {
     "name": "stdout",
     "output_type": "stream",
     "text": [
      "The link you provided is for a README file in a GitHub repository owned by the user antfriend. The content of the README file explains the purpose and details of the project, but unfortunately, as an AI language model, I cannot access or browse external websites, including GitHub. You can click on the link and read the README file to learn more about it.\n"
     ]
    }
   ],
   "source": [
    "from openai import OpenAI\n",
    "\n",
    "client = OpenAI()# defaults to os.environ.get(\"OPENAI_API_KEY\")\n",
    "\n",
    "chat_completion = client.chat.completions.create(\n",
    "    messages=[\n",
    "        {\n",
    "            \"role\": \"user\",\n",
    "            \"content\": \"What is this about? https://github.com/antfriend/journals/blob/main/README.md\",\n",
    "        }\n",
    "    ],\n",
    "    model=\"gpt-3.5-turbo\",\n",
    ")\n",
    "print(chat_completion.choices[0].message.content)"
   ]
  },
  {
   "cell_type": "markdown",
   "metadata": {},
   "source": []
  },
  {
   "cell_type": "markdown",
   "metadata": {},
   "source": []
  },
  {
   "cell_type": "code",
   "execution_count": 34,
   "metadata": {},
   "outputs": [
    {
     "name": "stdout",
     "output_type": "stream",
     "text": [
      ">>> Analyze the content and meaning of this journal page. Generate an appropriate and catchy title. As a scientist with a sense of humor, write a summary of the meaning in two sentences or less. Finally, as a scientist, write a detailed explanation, using well formed sentences and correct grammar.\n",
      "for: waves_8\n",
      "https://github.com/antfriend/journals/blob/main/waves/waves_8.png?raw=true\n",
      "Title: \"Brain Folds and Learning: Mapping the Mind's Origami\"\n",
      "\n",
      "Summary: Our brains' complexity is akin to intricate paper art; we are constantly refolding our cerebral maps as we learn and grow, much like origami evolving with each new fold.\n",
      "\n",
      "Detailed Explanation:\n",
      "The journal page presents an intriguing comparison and parallel between the human cerebral cortex and origami, specifically the Miura fold, which allows a large surface area to fit into a smaller volume. The human cerebral cortex has a similar deeply folded surface which significantly increases its surface area within the confined space of the skull. These folds are crucial for accommodating the densely packed neurons that constitute the brain's higher processing power.\n",
      "\n",
      "The page goes on to highlight that smaller mammals have smoother brains with proportionately smaller cerebral cortices, suggesting a correlation between brain folding complexity and cognitive capability. Human cerebral cortices continue to develop and restructure until about age 25, during which time we are particularly adept at learning new information and skills.\n",
      "\n",
      "Learning, as noted in the journal, involves updating, repairing, replacing and extending our knowledge base. The cerebral cortex is likened to a dynamic map of our accumulated knowledge and experiences. The author points out that while our cognitive capacity is partially defined by the physical structure or 'hardware' of the brain, we have the impressive ability to reprogram or 'rewrite' neural pathways through experiences and intentional practice.\n",
      "\n",
      "This rewiring is feasible through various psychological approaches, such as Neuro-Linguistic Programming (NLP) and Cognitive Behavioral Therapy (CBT). These methods are grounded in the idea that mental and behavioral patterns can be altered, which means the 'software' of our brains can be updated to change how we think, feel, and act. In summary, the journal page discusses not only the incredible adaptability of the human brain in terms of structure but also in our capacity for self-improvement and psychological development.\n"
     ]
    }
   ],
   "source": [
    "from openai import OpenAI\n",
    "\n",
    "client = OpenAI()\n",
    "journals = {\n",
    "    'waves': ['8'],\n",
    "    'vectors': ['1']\n",
    "}\n",
    "\n",
    "prompt_template = 'Analyze the content and meaning of this journal page. Generate an appropriate and catchy title. As a scientist with a sense of humor, write a summary of the meaning in two sentences or less. Finally, as a scientist, write a detailed explanation, using well-formed sentences and correct grammar.'\n",
    "\n",
    "# Iterating through each journal and its pages\n",
    "for journal, pages in journals.items():\n",
    "    for page_number in pages:\n",
    "        journal_image_name = journal + \"_\" + page_number\n",
    "        image_url = \"https://github.com/antfriend/journals/blob/main/\" + journal + \"/\" + journal_image_name + \".png?raw=true\"\n",
    "        print('>>> ' + prompt_template)\n",
    "        print('for: ' + journal_image_name)\n",
    "        print(image_url)\n",
    "\n",
    "        # Generating the response\n",
    "        response = client.chat.completions.create(\n",
    "            model=\"gpt-4-vision-preview\",\n",
    "            messages=[\n",
    "                {\n",
    "                    \"role\": \"user\",\n",
    "                    \"content\": [\n",
    "                        {\"type\": \"text\", \"text\": prompt_template},\n",
    "                        {\"type\": \"image_url\", \"image_url\": {\"url\": image_url}}\n",
    "                    ]\n",
    "                }\n",
    "            ],\n",
    "            max_tokens=500\n",
    "        )\n",
    "\n",
    "        message_content = response.choices[0].message.content\n",
    "\n",
    "        filename = journal_image_name + \".md\"\n",
    "\n",
    "        # Writing to the file\n",
    "        with open(filename, 'w') as file:\n",
    "            file.write(message_content)\n",
    "\n",
    "        print(message_content)\n"
   ]
  }
 ],
 "metadata": {
  "kernelspec": {
   "display_name": "Python 3",
   "language": "python",
   "name": "python3"
  },
  "language_info": {
   "codemirror_mode": {
    "name": "ipython",
    "version": 3
   },
   "file_extension": ".py",
   "mimetype": "text/x-python",
   "name": "python",
   "nbconvert_exporter": "python",
   "pygments_lexer": "ipython3",
   "version": "3.10.11"
  }
 },
 "nbformat": 4,
 "nbformat_minor": 2
}
