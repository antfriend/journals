{
 "cells": [
  {
   "cell_type": "markdown",
   "metadata": {},
   "source": [
    "## Automating the Future: GPT Robotic Process Automation Revolutionizes Journal Page Self-Publishing\n"
   ]
  },
  {
   "cell_type": "markdown",
   "metadata": {},
   "source": [
    "### \"Waves\" and \"Vectors\" \n",
    "These journals serve as a canvas for my personal art practice, delving into topics like waves, vectors, semantics, conscious experience, and quantum entanglement.  It is all pretty esoteric and just for fun. Some of them make me laugh. As does the idea that Journal Page Self-Publishing is even a thing.\n",
    "\n",
    "You might say this is a self-published e-book.\n",
    "This automation project is intended to result in a kind of web publication of easily shared pages.    \n",
    "\n",
    "Utilizing the OpenAI API and GPT to automatically generate a title, a summary, and an elaborate description for each image in the journals.\n",
    "Then formatting this generated content into HTML documents that are ready to be shared and \"published\".\n",
    "\n",
    "I handle the uploading of the original images and the final HTML documents to GitHub manually. For my next venture, I plan to further automate the process, focusing on classifying and organizing the collection. I'm considering integrating a chatbot as a virtual tour guide to navigate through this collection!\n"
   ]
  },
  {
   "cell_type": "code",
   "execution_count": null,
   "metadata": {},
   "outputs": [],
   "source": [
    "# install if needed\n",
    "%pip install openai requests markdown"
   ]
  },
  {
   "cell_type": "code",
   "execution_count": 1,
   "metadata": {},
   "outputs": [],
   "source": [
    "# HTML templating function\n",
    "import markdown\n",
    "\n",
    "def convert_markdown_to_styled_html(markdown_text, title):\n",
    "    # Convert markdown text to HTML\n",
    "    html_content = markdown.markdown(markdown_text)\n",
    "\n",
    "    # HTML template with custom CSS for styling\n",
    "    html_template = \"\"\"\n",
    "    <!DOCTYPE html>\n",
    "    <html>\n",
    "    <head>\n",
    "        <title>\"\"\" + title + \"\"\"</title>\n",
    "        <style>\n",
    "            body {\n",
    "                background-color: black;\n",
    "                color: white;\n",
    "                font-family: Arial, sans-serif;\n",
    "                font-size: 20px; /* So it's not too small on mobile */\n",
    "                margin: 0;\n",
    "                padding: 0;\n",
    "                max-width: 720px; /* Suitable width for mobile */\n",
    "                margin-left: auto;\n",
    "                margin-right: auto;\n",
    "            }\n",
    "            img {\n",
    "                max-width: 100%; /* Make images responsive */\n",
    "                height: auto; /* Maintain aspect ratio */\n",
    "            }\n",
    "            @media only screen and (max-width: 720px) {\n",
    "                body {\n",
    "                    padding-left: 10px;\n",
    "                    padding-right: 10px;\n",
    "                }\n",
    "            }\n",
    "        </style>\n",
    "    </head>\n",
    "    <body>\n",
    "        \"\"\" + html_content + \"\"\"\n",
    "    </body>\n",
    "    </html>\n",
    "    \"\"\"\n",
    "\n",
    "    return html_template\n"
   ]
  },
  {
   "cell_type": "markdown",
   "metadata": {},
   "source": [
    "### Automate the creation of HTML pages from images of my journal pages. \n",
    "\n",
    "Image Processing and Text Generation:\n",
    "\n",
    "The following code uses the OpenAI API to analyze the journal images. A prompt is sent to the API, asking to generate a catchy title, a brief summary, and a detailed explanation of the journal page's content and meaning.  \n",
    "\n",
    "Markdown and HTML Conversion:\n",
    "\n",
    "The response from the API is formatted into Markdown text.\n",
    "This Markdown text is then converted into HTML, using a custom function convert_markdown_to_styled_html.   \n",
    "\n",
    "File Output:\n",
    "\n",
    "The generated HTML content is written to files named after the journal pages.\n",
    "The GitHub URLs are printed."
   ]
  },
  {
   "cell_type": "code",
   "execution_count": 2,
   "metadata": {},
   "outputs": [
    {
     "name": "stdout",
     "output_type": "stream",
     "text": [
      "processing: waves_8\n",
      "https://antfriend.github.io/journals/waves/waves_8.png\n",
      "processing: waves_88\n",
      "https://antfriend.github.io/journals/waves/waves_88.png\n",
      "processing: waves_107\n",
      "https://antfriend.github.io/journals/waves/waves_107.png\n",
      "processing: waves_113\n",
      "https://antfriend.github.io/journals/waves/waves_113.png\n",
      "processing: vectors_2\n",
      "https://antfriend.github.io/journals/vectors/vectors_2.png\n",
      "processing: vectors_6\n",
      "https://antfriend.github.io/journals/vectors/vectors_6.png\n",
      "done!\n"
     ]
    }
   ],
   "source": [
    "from openai import OpenAI\n",
    "import markdown\n",
    "\n",
    "journals = {\n",
    "    'waves': ['8','88','107', '113'],\n",
    "    'vectors': ['2','6']\n",
    "}\n",
    "\n",
    "prompt = (\"Analyze the content and meaning of this journal page. \" \n",
    "          \"Generate an appropriate and catchy title. \"\n",
    "          \"As a scientist with a sense of humor, write a summary \"\n",
    "          \"of the meaning in two sentences or less. \"\n",
    "          \"Finally, as a scientist, write a detailed explanation \"\n",
    "          \"in 400 words or less, proofreading for punctuation.\")\n",
    "\n",
    "client = OpenAI()\n",
    "github_root = \"https://antfriend.github.io/journals/\"\n",
    "# Iterating through each journal and its pages\n",
    "for journal, pages in journals.items():\n",
    "    for page_number in pages:\n",
    "        journal_image_name = journal + \"_\" + page_number\n",
    "        image_url = github_root + journal + \"/\" + journal_image_name + \".png\"\n",
    "\n",
    "        # Generating the response\n",
    "        response = client.chat.completions.create(\n",
    "            model=\"gpt-4-vision-preview\",\n",
    "            messages=[\n",
    "                {\n",
    "                    \"role\": \"user\",\n",
    "                    \"content\": [\n",
    "                        {\"type\": \"text\", \"text\": prompt},\n",
    "                        {\"type\": \"image_url\", \"image_url\": {\"url\": image_url}}\n",
    "                    ]\n",
    "                }\n",
    "            ],\n",
    "            max_tokens=550\n",
    "        )\n",
    "\n",
    "        markdown_text = '!['+ journal_image_name +'](' + image_url + \")\\n\\n\" + response.choices[0].message.content\n",
    "        markdown_text = markdown_text.replace('Title:', '##')\n",
    "        markdown_text = markdown_text.replace('Summary:', '###')\n",
    "        md_filename = journal_image_name + \".md\"\n",
    "        html_filename = journal_image_name + \".html\"\n",
    "        # Writing to the files\n",
    "        with open(md_filename, 'w') as file:\n",
    "            file.write(markdown_text)\n",
    "\n",
    "        # html = markdown.markdown(markdown_text)\n",
    "        html = convert_markdown_to_styled_html(markdown_text, journal_image_name + ' journal page')\n",
    "        with open(html_filename, 'w') as file:\n",
    "            file.write(html)\n",
    "        print(' ')\n",
    "        print(github_root + html_filename)\n",
    "print('done!')"
   ]
  },
  {
   "cell_type": "code",
   "execution_count": null,
   "metadata": {},
   "outputs": [],
   "source": [
    "# do some cleanup"
   ]
  }
 ],
 "metadata": {
  "kernelspec": {
   "display_name": "Python 3",
   "language": "python",
   "name": "python3"
  },
  "language_info": {
   "codemirror_mode": {
    "name": "ipython",
    "version": 3
   },
   "file_extension": ".py",
   "mimetype": "text/x-python",
   "name": "python",
   "nbconvert_exporter": "python",
   "pygments_lexer": "ipython3",
   "version": "3.10.11"
  }
 },
 "nbformat": 4,
 "nbformat_minor": 2
}
