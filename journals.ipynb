{
 "cells": [
  {
   "cell_type": "markdown",
   "metadata": {},
   "source": [
    "## Waves and Vectors \n",
    "These are the names of the two journals in this collection. What they collect is ideas. Mostly about waves and vectors as well as semantics and conscious experience and quantum entanglement. It is all pretty esoteric and just for fun. Some of them make me laugh.\n",
    "\n",
    "You might say this a self-published e-book.\n",
    "\n",
    "This automation project is intended to result in a kind of web publication of easily share-able svg pages.    \n",
    "\n",
    "- To that end, I'm automating the generation of a title, a summary, and a full description of each image with ChatGPT.\n",
    "\n",
    "- Then an SVG is generated, integrating the original image and the text into a share-able, \"published\", document.\n",
    "\n",
    "- Then the collection of documents is organized by subtle sentiment and a table of contents and index with thumbnails are created.\n",
    "\n",
    "Then I commit the update to this repo."
   ]
  },
  {
   "cell_type": "code",
   "execution_count": null,
   "metadata": {},
   "outputs": [],
   "source": [
    "%pip install openai requests"
   ]
  },
  {
   "cell_type": "code",
   "execution_count": 2,
   "metadata": {},
   "outputs": [
    {
     "name": "stdout",
     "output_type": "stream",
     "text": [
      "Sentiment: Error code: 500 - {'error': {'message': 'The server had an error processing your request. Sorry about that! You can retry your request, or contact us through our help center at help.openai.com if you keep seeing this error. (Please include the request ID 383617aba55a212180dda1083cc6c760 in your email.)', 'type': 'server_error', 'param': None, 'code': None}}\n"
     ]
    }
   ],
   "source": [
    "import openai\n",
    "import os\n",
    "import json\n",
    "\n",
    "def get_sentiment(sentence):\n",
    "    from openai import OpenAI\n",
    "\n",
    "    client = OpenAI(\n",
    "        api_key=os.getenv(\"OPENAI_API_KEY\"),\n",
    "    )\n",
    "\n",
    "    # response = client.completions.create(\n",
    "    #     engine=\"davinci\",\n",
    "    #     prompt=f\"This is a tweet sentiment classifier\\n\\nTweet: \\\"{sentence}\\\"\\nSentiment: Positive\\n\\n---\\nTweet:\",\n",
    "    #     temperature=0,\n",
    "    #     max_tokens=16,\n",
    "    #     top_p=1.0,\n",
    "    #     frequency_penalty=0.0,\n",
    "    #     presence_penalty=0.0,\n",
    "    #     stop=[\"\\n\"]\n",
    "    # )   \n",
    "\n",
    "    try:\n",
    "        chat_completion = client.chat.completions.create(\n",
    "            messages=[\n",
    "                {\n",
    "                    \"role\": \"user\",\n",
    "                    \"content\": \"Say this is a test\",\n",
    "                }\n",
    "            ],\n",
    "            model=\"gpt-3.5-turbo\",\n",
    "        )\n",
    "        return chat_completion.choices[0].message['content']\n",
    "    except Exception as e:\n",
    "        return str(e)\n",
    "\n",
    "# Example usage\n",
    "sentence = \"I love sunny days!\"\n",
    "sentiment = get_sentiment(sentence)\n",
    "print(\"Sentiment:\", sentiment)\n"
   ]
  }
 ],
 "metadata": {
  "kernelspec": {
   "display_name": "Python 3",
   "language": "python",
   "name": "python3"
  },
  "language_info": {
   "codemirror_mode": {
    "name": "ipython",
    "version": 3
   },
   "file_extension": ".py",
   "mimetype": "text/x-python",
   "name": "python",
   "nbconvert_exporter": "python",
   "pygments_lexer": "ipython3",
   "version": "3.10.11"
  }
 },
 "nbformat": 4,
 "nbformat_minor": 2
}
